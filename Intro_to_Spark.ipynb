{
  "cells": [
    {
      "cell_type": "markdown",
      "metadata": {
        "id": "view-in-github",
        "colab_type": "text"
      },
      "source": [
        "<a href=\"https://colab.research.google.com/github/etnk125/big-data-processing/blob/main/Intro_to_Spark.ipynb\" target=\"_parent\"><img src=\"https://colab.research.google.com/assets/colab-badge.svg\" alt=\"Open In Colab\"/></a>"
      ]
    },
    {
      "cell_type": "code",
      "source": [
        "# Installing required packages\n",
        "!pip install pyspark\n",
        "!pip install findspark"
      ],
      "metadata": {
        "id": "R2mbIAB5r2N7"
      },
      "execution_count": null,
      "outputs": []
    },
    {
      "cell_type": "code",
      "execution_count": null,
      "metadata": {
        "collapsed": true,
        "id": "8vJBmAqrqzy7"
      },
      "outputs": [],
      "source": [
        "from pyspark import SparkContext,SparkConf\n",
        "sc = SparkContext()\n"
      ]
    },
    {
      "cell_type": "code",
      "source": [
        "data =[1,2,3,4,5]  \n",
        "distData = sc.parallelize(data,3)"
      ],
      "metadata": {
        "id": "ywX5OQ8P6Bvu"
      },
      "execution_count": null,
      "outputs": []
    },
    {
      "cell_type": "code",
      "source": [
        "print(distData.glom().collect())"
      ],
      "metadata": {
        "id": "o8QMVqmP6kEO"
      },
      "execution_count": null,
      "outputs": []
    },
    {
      "cell_type": "code",
      "source": [
        "def add(x): \n",
        "  return x+1"
      ],
      "metadata": {
        "id": "86K9Yx7a7eor"
      },
      "execution_count": null,
      "outputs": []
    },
    {
      "cell_type": "code",
      "source": [
        "type(distData)"
      ],
      "metadata": {
        "id": "lMXBaPw08he6"
      },
      "execution_count": null,
      "outputs": []
    },
    {
      "cell_type": "code",
      "source": [
        "distData_1=distData.map(add)"
      ],
      "metadata": {
        "id": "hzne4rgs8Ozr"
      },
      "execution_count": null,
      "outputs": []
    },
    {
      "cell_type": "code",
      "source": [
        "print(distData_1.glom().collect())"
      ],
      "metadata": {
        "id": "jZzD1Ekp8O2U"
      },
      "execution_count": null,
      "outputs": []
    },
    {
      "cell_type": "code",
      "source": [
        "distData_2=distData_1.map(lambda x : x+1 )"
      ],
      "metadata": {
        "id": "t5faC8my8O4w"
      },
      "execution_count": null,
      "outputs": []
    },
    {
      "cell_type": "code",
      "source": [
        "print(distData_2.glom().collect())"
      ],
      "metadata": {
        "id": "UOanWjxD8PBY"
      },
      "execution_count": null,
      "outputs": []
    },
    {
      "cell_type": "code",
      "source": [
        "print(distData_2.collect())"
      ],
      "metadata": {
        "id": "bJDz0i5I_AwY"
      },
      "execution_count": null,
      "outputs": []
    },
    {
      "cell_type": "code",
      "source": [
        "sc.stop()"
      ],
      "metadata": {
        "id": "LEhwUfjV_Hs0"
      },
      "execution_count": null,
      "outputs": []
    },
    {
      "cell_type": "code",
      "source": [
        "sc = SparkContext()\n"
      ],
      "metadata": {
        "id": "p2vLkMVjcile"
      },
      "execution_count": null,
      "outputs": []
    },
    {
      "cell_type": "code",
      "source": [
        "\n",
        "data =[\"I love Cats\",\"I hate Bees\",\"dOgs are friendly\",\"FISH is swimming\",\"pin is in the sea\"]\n",
        "raw = sc.parallelize(data,3)"
      ],
      "metadata": {
        "id": "UfQ1z7xWH8hp"
      },
      "execution_count": null,
      "outputs": []
    },
    {
      "cell_type": "code",
      "source": [
        "raw.getNumPartitions()"
      ],
      "metadata": {
        "id": "gKdkT8E3Ao8y"
      },
      "execution_count": null,
      "outputs": []
    },
    {
      "cell_type": "code",
      "source": [
        "print(raw.glom().collect())"
      ],
      "metadata": {
        "id": "clKdS-yD5b0i"
      },
      "execution_count": null,
      "outputs": []
    },
    {
      "cell_type": "code",
      "source": [
        "def lower(line): \n",
        "  return line.lower()"
      ],
      "metadata": {
        "id": "Qu28fWc7HRCA"
      },
      "execution_count": null,
      "outputs": []
    },
    {
      "cell_type": "code",
      "source": [
        "lower_text_RDD=raw.map(lower)"
      ],
      "metadata": {
        "id": "jNd8H8yLtGfd"
      },
      "execution_count": null,
      "outputs": []
    },
    {
      "cell_type": "code",
      "source": [
        "dataColl=lower_text_RDD.collect()\n",
        "for lines in dataColl:\n",
        "  print(lines)\n"
      ],
      "metadata": {
        "id": "-WuhCDXUKv1X"
      },
      "execution_count": null,
      "outputs": []
    },
    {
      "cell_type": "code",
      "source": [
        "print(lower_text_RDD.glom().collect())"
      ],
      "metadata": {
        "id": "hedhyDk6BCdK"
      },
      "execution_count": null,
      "outputs": []
    },
    {
      "cell_type": "code",
      "source": [
        "word_RDD = lower_text_RDD.flatMap(lambda line : line.split(\" \"))"
      ],
      "metadata": {
        "id": "jOxxuqzXMIgb"
      },
      "execution_count": null,
      "outputs": []
    },
    {
      "cell_type": "code",
      "source": [
        "print(word_RDD.glom().collect())"
      ],
      "metadata": {
        "id": "E7YI7Xn8BlCH"
      },
      "execution_count": null,
      "outputs": []
    },
    {
      "cell_type": "code",
      "source": [
        "col2=word_RDD.collect()\n",
        "for lines in col2:\n",
        "  print(lines)\n"
      ],
      "metadata": {
        "id": "F_vnCNeBOPgS"
      },
      "execution_count": null,
      "outputs": []
    },
    {
      "cell_type": "code",
      "source": [
        "#def first(line): \n",
        " # return line[0]\n",
        "first_RDD=word_RDD.map(lambda word : (word[0], 1))\n",
        "col3=first_RDD.collect()\n",
        "for lines in col3:\n",
        "  print(lines)\n"
      ],
      "metadata": {
        "id": "NO8GJVJVRcJ3"
      },
      "execution_count": null,
      "outputs": []
    },
    {
      "cell_type": "code",
      "source": [
        "sum = first_RDD.reduceByKey(lambda a, b: (a + b))\n",
        "for lines in sum.collect():\n",
        "  print(lines)"
      ],
      "metadata": {
        "id": "GuiLcRZCSP7Q"
      },
      "execution_count": null,
      "outputs": []
    },
    {
      "cell_type": "code",
      "source": [
        "counts = first_RDD.countByKey()\n",
        "print(counts)"
      ],
      "metadata": {
        "id": "yu1p7A33W4xJ"
      },
      "execution_count": null,
      "outputs": []
    },
    {
      "cell_type": "code",
      "source": [
        "wordsRDD=lower_text_RDD.filter(lambda x: x.startswith(('f','d','i')))\n",
        "col5=wordsRDD.collect()\n",
        "for lines in col5:\n",
        "  print(lines)\n"
      ],
      "metadata": {
        "id": "7zrP3TbaZ7nO"
      },
      "execution_count": null,
      "outputs": []
    },
    {
      "cell_type": "code",
      "source": [],
      "metadata": {
        "id": "umBuvxjGR6aQ"
      },
      "execution_count": null,
      "outputs": []
    },
    {
      "cell_type": "code",
      "source": [
        "sc.stop()"
      ],
      "metadata": {
        "id": "brk30c9fHznE"
      },
      "execution_count": null,
      "outputs": []
    },
    {
      "cell_type": "code",
      "source": [],
      "metadata": {
        "id": "cd35L_dyH0nz"
      },
      "execution_count": null,
      "outputs": []
    }
  ],
  "metadata": {
    "kernelspec": {
      "display_name": "Python 3",
      "language": "python",
      "name": "python3"
    },
    "language_info": {
      "codemirror_mode": {
        "name": "ipython",
        "version": 3
      },
      "file_extension": ".py",
      "mimetype": "text/x-python",
      "name": "python",
      "nbconvert_exporter": "python",
      "pygments_lexer": "ipython3",
      "version": "3.5.1"
    },
    "colab": {
      "provenance": [],
      "include_colab_link": true
    }
  },
  "nbformat": 4,
  "nbformat_minor": 0
}